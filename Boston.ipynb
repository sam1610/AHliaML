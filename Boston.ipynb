{
  "nbformat": 4,
  "nbformat_minor": 0,
  "metadata": {
    "kernelspec": {
      "display_name": "Python 3",
      "language": "python",
      "name": "python3"
    },
    "language_info": {
      "codemirror_mode": {
        "name": "ipython",
        "version": 3
      },
      "file_extension": ".py",
      "mimetype": "text/x-python",
      "name": "python",
      "nbconvert_exporter": "python",
      "pygments_lexer": "ipython3",
      "version": "3.7.1"
    },
    "colab": {
      "provenance": [],
      "include_colab_link": true
    }
  },
  "cells": [
    {
      "cell_type": "markdown",
      "metadata": {
        "id": "view-in-github",
        "colab_type": "text"
      },
      "source": [
        "<a href=\"https://colab.research.google.com/github/sam1610/AHliaML/blob/main/Boston.ipynb\" target=\"_parent\"><img src=\"https://colab.research.google.com/assets/colab-badge.svg\" alt=\"Open In Colab\"/></a>"
      ]
    },
    {
      "cell_type": "code",
      "metadata": {
        "id": "o-I1157IUFpE"
      },
      "source": [],
      "execution_count": null,
      "outputs": []
    },
    {
      "cell_type": "markdown",
      "metadata": {
        "id": "yQepXFNJUFpP"
      },
      "source": [
        "  XGBoost stands for \"Extreme Gradient Boosting\" and it is an implementation of gradient boosting machines. The XGBoost is a popular supervised machine learning model with characteristics like fast in computation, parallelization, and better performance. You can find more about the model in this link. In this post, we'll learn how to define the XGBRegressor model and predict regression data in Python.\n",
        "\n",
        "*The tutorial covers:\n",
        "- Preparing data\n",
        "- Defining and fitting the model\n",
        "- Predicting and checking the results"
      ]
    },
    {
      "cell_type": "code",
      "metadata": {
        "id": "JTiWNLj7UFpR",
        "outputId": "4798083c-a8f6-49ae-86a3-3adda2774880",
        "colab": {
          "base_uri": "https://localhost:8080/",
          "height": 71
        }
      },
      "source": [
        "import xgboost as xgb\n",
        "from sklearn.datasets import load_boston\n",
        "from sklearn.model_selection import train_test_split\n",
        "from sklearn.model_selection import cross_val_score, KFold\n",
        "from sklearn.metrics import mean_squared_error\n",
        "import matplotlib.pyplot as plt\n",
        "import numpy as np \n",
        "import seaborn as sns"
      ],
      "execution_count": null,
      "outputs": [
        {
          "output_type": "stream",
          "text": [
            "/usr/local/lib/python3.6/dist-packages/statsmodels/tools/_testing.py:19: FutureWarning: pandas.util.testing is deprecated. Use the functions in the public API at pandas.testing instead.\n",
            "  import pandas.util.testing as tm\n"
          ],
          "name": "stderr"
        }
      ]
    },
    {
      "cell_type": "markdown",
      "metadata": {
        "id": "VojH_CB1UFpY"
      },
      "source": [
        "## Preparing data\n",
        "\n",
        "   We use Boston house-price dataset as regression dataset in this tutorial. After loading the dataset, first, we'll separate data into x - feature and y - label. Then we'll split them into the train and test parts. Here, I'll extract 15 percent of the dataset as test data."
      ]
    },
    {
      "cell_type": "code",
      "metadata": {
        "id": "Ykt6kF-GUFpa"
      },
      "source": [
        "#boston = load_boston()\n",
        "X, y = load_boston( return_X_y=True ) #boston.data, boston.target\n",
        "X_train, X_test, y_train, y_test=train_test_split(X, y, test_size=0.3)"
      ],
      "execution_count": null,
      "outputs": []
    },
    {
      "cell_type": "markdown",
      "metadata": {
        "id": "RL-YyUcjUFpi"
      },
      "source": [
        "## Defining and fitting the model\n",
        "\n",
        "   For the regression problem, we'll use XGBRegressor class of the xgboost package and we can define it with its default parameters. You can also set the new parameter values according to your data characteristics."
      ]
    },
    {
      "cell_type": "code",
      "metadata": {
        "id": "e1oHnFLhUFpj"
      },
      "source": [
        "# instantiate an XGBoost regressor object \n",
        "xgbr = xgb.XGBRegressor(objective ='reg:squarederror')"
      ],
      "execution_count": null,
      "outputs": []
    },
    {
      "cell_type": "code",
      "metadata": {
        "id": "U5JHw_RVUFpr",
        "outputId": "b56743fa-84bc-4196-9efd-e9f88c8ec6ec",
        "colab": {
          "base_uri": "https://localhost:8080/",
          "height": 136
        }
      },
      "source": [
        "# Next, we'll fit the model with train data.\n",
        "\n",
        "xgbr.fit(X_train , y_train )"
      ],
      "execution_count": null,
      "outputs": [
        {
          "output_type": "execute_result",
          "data": {
            "text/plain": [
              "XGBRegressor(base_score=0.5, booster='gbtree', colsample_bylevel=1,\n",
              "             colsample_bynode=1, colsample_bytree=1, gamma=0,\n",
              "             importance_type='gain', learning_rate=0.1, max_delta_step=0,\n",
              "             max_depth=3, min_child_weight=1, missing=None, n_estimators=100,\n",
              "             n_jobs=1, nthread=None, objective='reg:squarederror',\n",
              "             random_state=0, reg_alpha=0, reg_lambda=1, scale_pos_weight=1,\n",
              "             seed=None, silent=None, subsample=1, verbosity=1)"
            ]
          },
          "metadata": {
            "tags": []
          },
          "execution_count": 6
        }
      ]
    },
    {
      "cell_type": "markdown",
      "metadata": {
        "id": "-Gj-DCXqUFpz"
      },
      "source": [
        "## Predicting and checking the results\n",
        "\n",
        "\n",
        "After training the model, we'll check the model accuracy with cross-validation method."
      ]
    },
    {
      "cell_type": "code",
      "metadata": {
        "id": "K4Y2HmP8UFp0",
        "outputId": "f45a7d20-25bc-45bd-c62a-a29116c3b838",
        "colab": {
          "base_uri": "https://localhost:8080/",
          "height": 34
        }
      },
      "source": [
        "scores = cross_val_score(xgbr, X_train, y_train ,cv=5)\n",
        "print(\"Mean cross-validation score: %.2f\" % scores.mean())\n",
        "# Mean cross-validataion score: 0.87 "
      ],
      "execution_count": null,
      "outputs": [
        {
          "output_type": "stream",
          "text": [
            "Mean cross-validation score: 0.88\n"
          ],
          "name": "stdout"
        }
      ]
    },
    {
      "cell_type": "code",
      "metadata": {
        "id": "fcL999PsUFp9",
        "outputId": "204f659c-2796-42ca-8276-3bfd0d969d3b",
        "colab": {
          "base_uri": "https://localhost:8080/",
          "height": 34
        }
      },
      "source": [
        "#Cross-validation with a k-fold method can be checked as a following.\n",
        "\n",
        "kfold = KFold(n_splits=10, shuffle=True)\n",
        "kf_cv_scores = cross_val_score(xgbr, X_train, y_train, cv=kfold )\n",
        "print(\"K-fold CV average score: %.2f\" % kf_cv_scores.mean())"
      ],
      "execution_count": null,
      "outputs": [
        {
          "output_type": "stream",
          "text": [
            "K-fold CV average score: 0.90\n"
          ],
          "name": "stdout"
        }
      ]
    },
    {
      "cell_type": "markdown",
      "metadata": {
        "id": "7LZc_fZBUFqI"
      },
      "source": [
        "- Both methods show that the model is around 8x %  accurate on average.\n",
        "Next, we can predict test data and check its accuracy. Here, we'll use MSE and RMSE as accuracy metrics."
      ]
    },
    {
      "cell_type": "code",
      "metadata": {
        "id": "gFEfoIIYUFqJ",
        "outputId": "1c9a33f5-d69d-4d58-c157-4c5a5ea8464a",
        "colab": {
          "base_uri": "https://localhost:8080/",
          "height": 51
        }
      },
      "source": [
        "y_pred = xgbr.predict(X_test)\n",
        "mse = mean_squared_error(y_test,y_pred )\n",
        "print(\"MSE: %.2f\" % mse)\n",
        "MSE: 3.35\n",
        "print(\"RMSE: %.2f\" % np.sqrt(mse))"
      ],
      "execution_count": null,
      "outputs": [
        {
          "output_type": "stream",
          "text": [
            "MSE: 15.51\n",
            "RMSE: 3.94\n"
          ],
          "name": "stdout"
        }
      ]
    },
    {
      "cell_type": "markdown",
      "metadata": {
        "id": "pWGn2xRKUFqR"
      },
      "source": [
        "- Finally, we'll visualize the original and predicted test data in a plot."
      ]
    },
    {
      "cell_type": "code",
      "metadata": {
        "id": "43tmIdi2UFqS",
        "outputId": "834a2351-0d78-4016-b1ef-8e8bb8d5bf41",
        "colab": {
          "base_uri": "https://localhost:8080/",
          "height": 483
        }
      },
      "source": [
        "# figure size\n",
        "plt.figure(figsize=(10,8))\n",
        "x_ax = range(len(ytest))\n",
        "_= sns.scatterplot(x_ax, y_test, s=5, color=\"blue\", label=\"original\")\n",
        "_=sns.lineplot(x_ax, y_pred, lw=0.8, color=\"red\", label=\"predicted\")"
      ],
      "execution_count": null,
      "outputs": [
        {
          "output_type": "display_data",
          "data": {
            "image/png": "[encoded data removed]",
            "text/plain": [
              "<Figure size 720x576 with 1 Axes>"
            ]
          },
          "metadata": {
            "tags": [],
            "needs_background": "light"
          }
        }
      ]
    },
    {
      "cell_type": "code",
      "metadata": {
        "id": "NkFlXSVQUFqY"
      },
      "source": [],
      "execution_count": null,
      "outputs": []
    },
    {
      "cell_type": "markdown",
      "metadata": {
        "id": "eLmXAkNdUFqe"
      },
      "source": [
        "_\n",
        "   In this post, we've briefly learned how to use XGBRegressor to predict regression data in Python. Thank you for reading.\n",
        "   The full source code is listed below._"
      ]
    },
    {
      "cell_type": "code",
      "metadata": {
        "id": "T3ZmdWnxUFqg"
      },
      "source": [
        "import xgboost as xgb\n",
        "from sklearn.datasets import load_boston\n",
        "from sklearn.model_selection import train_test_split\n",
        "from sklearn.model_selection import cross_val_score, KFold\n",
        "from sklearn.metrics import mean_squared_error\n",
        "import matplotlib.pyplot as plt \n",
        "import numpy as np"
      ],
      "execution_count": null,
      "outputs": []
    },
    {
      "cell_type": "code",
      "metadata": {
        "id": "vjaTeuwwUFqo"
      },
      "source": [],
      "execution_count": null,
      "outputs": []
    },
    {
      "cell_type": "code",
      "metadata": {
        "id": "vlYP-SuDUFqt"
      },
      "source": [],
      "execution_count": null,
      "outputs": []
    },
    {
      "cell_type": "markdown",
      "metadata": {
        "id": "wmig-3kwUFqz"
      },
      "source": [
        "# Encoding. ategorical Features"
      ]
    },
    {
      "cell_type": "code",
      "metadata": {
        "id": "AV00q2gxUFq0",
        "outputId": "775df032-4fde-4e65-a6dd-b821c7f9b2d4"
      },
      "source": [
        "import pandas as pd\n",
        "import numpy as np\n",
        "\n",
        "# Define the headers since the data does not have any\n",
        "headers = [\"symboling\", \"normalized_losses\", \"make\", \"fuel_type\", \"aspiration\",\n",
        "           \"num_doors\", \"body_style\", \"drive_wheels\", \"engine_location\",\n",
        "           \"wheel_base\", \"length\", \"width\", \"height\", \"curb_weight\",\n",
        "           \"engine_type\", \"num_cylinders\", \"engine_size\", \"fuel_system\",\n",
        "           \"bore\", \"stroke\", \"compression_ratio\", \"horsepower\", \"peak_rpm\",\n",
        "           \"city_mpg\", \"highway_mpg\", \"price\"]\n",
        "\n",
        "# Read in the CSV file and convert \"?\" to NaN\n",
        "df = pd.read_csv(\"http://mlr.cs.umass.edu/ml/machine-learning-databases/autos/imports-85.data\",\n",
        "                  header=None, names=headers, na_values=\"?\" )\n",
        "df.head()"
      ],
      "execution_count": null,
      "outputs": [
        {
          "output_type": "execute_result",
          "data": {
            "text/html": [
              "<div>\n",
              "<style scoped>\n",
              "    .dataframe tbody tr th:only-of-type {\n",
              "        vertical-align: middle;\n",
              "    }\n",
              "\n",
              "    .dataframe tbody tr th {\n",
              "        vertical-align: top;\n",
              "    }\n",
              "\n",
              "    .dataframe thead th {\n",
              "        text-align: right;\n",
              "    }\n",
              "</style>\n",
              "<table border=\"1\" class=\"dataframe\">\n",
              "  <thead>\n",
              "    <tr style=\"text-align: right;\">\n",
              "      <th></th>\n",
              "      <th>symboling</th>\n",
              "      <th>normalized_losses</th>\n",
              "      <th>make</th>\n",
              "      <th>fuel_type</th>\n",
              "      <th>aspiration</th>\n",
              "      <th>num_doors</th>\n",
              "      <th>body_style</th>\n",
              "      <th>drive_wheels</th>\n",
              "      <th>engine_location</th>\n",
              "      <th>wheel_base</th>\n",
              "      <th>...</th>\n",
              "      <th>engine_size</th>\n",
              "      <th>fuel_system</th>\n",
              "      <th>bore</th>\n",
              "      <th>stroke</th>\n",
              "      <th>compression_ratio</th>\n",
              "      <th>horsepower</th>\n",
              "      <th>peak_rpm</th>\n",
              "      <th>city_mpg</th>\n",
              "      <th>highway_mpg</th>\n",
              "      <th>price</th>\n",
              "    </tr>\n",
              "  </thead>\n",
              "  <tbody>\n",
              "    <tr>\n",
              "      <th>0</th>\n",
              "      <td>3</td>\n",
              "      <td>NaN</td>\n",
              "      <td>alfa-romero</td>\n",
              "      <td>gas</td>\n",
              "      <td>std</td>\n",
              "      <td>two</td>\n",
              "      <td>convertible</td>\n",
              "      <td>rwd</td>\n",
              "      <td>front</td>\n",
              "      <td>88.6</td>\n",
              "      <td>...</td>\n",
              "      <td>130</td>\n",
              "      <td>mpfi</td>\n",
              "      <td>3.47</td>\n",
              "      <td>2.68</td>\n",
              "      <td>9.0</td>\n",
              "      <td>111.0</td>\n",
              "      <td>5000.0</td>\n",
              "      <td>21</td>\n",
              "      <td>27</td>\n",
              "      <td>13495.0</td>\n",
              "    </tr>\n",
              "    <tr>\n",
              "      <th>1</th>\n",
              "      <td>3</td>\n",
              "      <td>NaN</td>\n",
              "      <td>alfa-romero</td>\n",
              "      <td>gas</td>\n",
              "      <td>std</td>\n",
              "      <td>two</td>\n",
              "      <td>convertible</td>\n",
              "      <td>rwd</td>\n",
              "      <td>front</td>\n",
              "      <td>88.6</td>\n",
              "      <td>...</td>\n",
              "      <td>130</td>\n",
              "      <td>mpfi</td>\n",
              "      <td>3.47</td>\n",
              "      <td>2.68</td>\n",
              "      <td>9.0</td>\n",
              "      <td>111.0</td>\n",
              "      <td>5000.0</td>\n",
              "      <td>21</td>\n",
              "      <td>27</td>\n",
              "      <td>16500.0</td>\n",
              "    </tr>\n",
              "    <tr>\n",
              "      <th>2</th>\n",
              "      <td>1</td>\n",
              "      <td>NaN</td>\n",
              "      <td>alfa-romero</td>\n",
              "      <td>gas</td>\n",
              "      <td>std</td>\n",
              "      <td>two</td>\n",
              "      <td>hatchback</td>\n",
              "      <td>rwd</td>\n",
              "      <td>front</td>\n",
              "      <td>94.5</td>\n",
              "      <td>...</td>\n",
              "      <td>152</td>\n",
              "      <td>mpfi</td>\n",
              "      <td>2.68</td>\n",
              "      <td>3.47</td>\n",
              "      <td>9.0</td>\n",
              "      <td>154.0</td>\n",
              "      <td>5000.0</td>\n",
              "      <td>19</td>\n",
              "      <td>26</td>\n",
              "      <td>16500.0</td>\n",
              "    </tr>\n",
              "    <tr>\n",
              "      <th>3</th>\n",
              "      <td>2</td>\n",
              "      <td>164.0</td>\n",
              "      <td>audi</td>\n",
              "      <td>gas</td>\n",
              "      <td>std</td>\n",
              "      <td>four</td>\n",
              "      <td>sedan</td>\n",
              "      <td>fwd</td>\n",
              "      <td>front</td>\n",
              "      <td>99.8</td>\n",
              "      <td>...</td>\n",
              "      <td>109</td>\n",
              "      <td>mpfi</td>\n",
              "      <td>3.19</td>\n",
              "      <td>3.40</td>\n",
              "      <td>10.0</td>\n",
              "      <td>102.0</td>\n",
              "      <td>5500.0</td>\n",
              "      <td>24</td>\n",
              "      <td>30</td>\n",
              "      <td>13950.0</td>\n",
              "    </tr>\n",
              "    <tr>\n",
              "      <th>4</th>\n",
              "      <td>2</td>\n",
              "      <td>164.0</td>\n",
              "      <td>audi</td>\n",
              "      <td>gas</td>\n",
              "      <td>std</td>\n",
              "      <td>four</td>\n",
              "      <td>sedan</td>\n",
              "      <td>4wd</td>\n",
              "      <td>front</td>\n",
              "      <td>99.4</td>\n",
              "      <td>...</td>\n",
              "      <td>136</td>\n",
              "      <td>mpfi</td>\n",
              "      <td>3.19</td>\n",
              "      <td>3.40</td>\n",
              "      <td>8.0</td>\n",
              "      <td>115.0</td>\n",
              "      <td>5500.0</td>\n",
              "      <td>18</td>\n",
              "      <td>22</td>\n",
              "      <td>17450.0</td>\n",
              "    </tr>\n",
              "  </tbody>\n",
              "</table>\n",
              "<p>5 rows × 26 columns</p>\n",
              "</div>"
            ],
            "text/plain": [
              "   symboling  normalized_losses         make fuel_type aspiration num_doors  \\\n",
              "0          3                NaN  alfa-romero       gas        std       two   \n",
              "1          3                NaN  alfa-romero       gas        std       two   \n",
              "2          1                NaN  alfa-romero       gas        std       two   \n",
              "3          2              164.0         audi       gas        std      four   \n",
              "4          2              164.0         audi       gas        std      four   \n",
              "\n",
              "    body_style drive_wheels engine_location  wheel_base  ...  engine_size  \\\n",
              "0  convertible          rwd           front        88.6  ...          130   \n",
              "1  convertible          rwd           front        88.6  ...          130   \n",
              "2    hatchback          rwd           front        94.5  ...          152   \n",
              "3        sedan          fwd           front        99.8  ...          109   \n",
              "4        sedan          4wd           front        99.4  ...          136   \n",
              "\n",
              "   fuel_system  bore  stroke compression_ratio horsepower  peak_rpm city_mpg  \\\n",
              "0         mpfi  3.47    2.68               9.0      111.0    5000.0       21   \n",
              "1         mpfi  3.47    2.68               9.0      111.0    5000.0       21   \n",
              "2         mpfi  2.68    3.47               9.0      154.0    5000.0       19   \n",
              "3         mpfi  3.19    3.40              10.0      102.0    5500.0       24   \n",
              "4         mpfi  3.19    3.40               8.0      115.0    5500.0       18   \n",
              "\n",
              "   highway_mpg    price  \n",
              "0           27  13495.0  \n",
              "1           27  16500.0  \n",
              "2           26  16500.0  \n",
              "3           30  13950.0  \n",
              "4           22  17450.0  \n",
              "\n",
              "[5 rows x 26 columns]"
            ]
          },
          "metadata": {
            "tags": []
          },
          "execution_count": 1
        }
      ]
    },
    {
      "cell_type": "code",
      "metadata": {
        "id": "wHrriWv3UFq9",
        "outputId": "01ac243c-8b0a-4d80-8b5c-98ff8761fc5c"
      },
      "source": [
        "df.dtypes"
      ],
      "execution_count": null,
      "outputs": [
        {
          "output_type": "execute_result",
          "data": {
            "text/plain": [
              "symboling              int64\n",
              "normalized_losses    float64\n",
              "make                  object\n",
              "fuel_type             object\n",
              "aspiration            object\n",
              "num_doors             object\n",
              "body_style            object\n",
              "drive_wheels          object\n",
              "engine_location       object\n",
              "wheel_base           float64\n",
              "length               float64\n",
              "width                float64\n",
              "height               float64\n",
              "curb_weight            int64\n",
              "engine_type           object\n",
              "num_cylinders         object\n",
              "engine_size            int64\n",
              "fuel_system           object\n",
              "bore                 float64\n",
              "stroke               float64\n",
              "compression_ratio    float64\n",
              "horsepower           float64\n",
              "peak_rpm             float64\n",
              "city_mpg               int64\n",
              "highway_mpg            int64\n",
              "price                float64\n",
              "dtype: object"
            ]
          },
          "metadata": {
            "tags": []
          },
          "execution_count": 2
        }
      ]
    },
    {
      "cell_type": "code",
      "metadata": {
        "id": "HYm6gHbcUFrD",
        "outputId": "e3e70a1a-3835-4bf8-e8a4-e25c09e506a1"
      },
      "source": [
        "obj_df = df.select_dtypes(include=['object']).copy()\n",
        "obj_df.head()"
      ],
      "execution_count": null,
      "outputs": [
        {
          "output_type": "execute_result",
          "data": {
            "text/html": [
              "<div>\n",
              "<style scoped>\n",
              "    .dataframe tbody tr th:only-of-type {\n",
              "        vertical-align: middle;\n",
              "    }\n",
              "\n",
              "    .dataframe tbody tr th {\n",
              "        vertical-align: top;\n",
              "    }\n",
              "\n",
              "    .dataframe thead th {\n",
              "        text-align: right;\n",
              "    }\n",
              "</style>\n",
              "<table border=\"1\" class=\"dataframe\">\n",
              "  <thead>\n",
              "    <tr style=\"text-align: right;\">\n",
              "      <th></th>\n",
              "      <th>make</th>\n",
              "      <th>fuel_type</th>\n",
              "      <th>aspiration</th>\n",
              "      <th>num_doors</th>\n",
              "      <th>body_style</th>\n",
              "      <th>drive_wheels</th>\n",
              "      <th>engine_location</th>\n",
              "      <th>engine_type</th>\n",
              "      <th>num_cylinders</th>\n",
              "      <th>fuel_system</th>\n",
              "    </tr>\n",
              "  </thead>\n",
              "  <tbody>\n",
              "    <tr>\n",
              "      <th>0</th>\n",
              "      <td>alfa-romero</td>\n",
              "      <td>gas</td>\n",
              "      <td>std</td>\n",
              "      <td>two</td>\n",
              "      <td>convertible</td>\n",
              "      <td>rwd</td>\n",
              "      <td>front</td>\n",
              "      <td>dohc</td>\n",
              "      <td>four</td>\n",
              "      <td>mpfi</td>\n",
              "    </tr>\n",
              "    <tr>\n",
              "      <th>1</th>\n",
              "      <td>alfa-romero</td>\n",
              "      <td>gas</td>\n",
              "      <td>std</td>\n",
              "      <td>two</td>\n",
              "      <td>convertible</td>\n",
              "      <td>rwd</td>\n",
              "      <td>front</td>\n",
              "      <td>dohc</td>\n",
              "      <td>four</td>\n",
              "      <td>mpfi</td>\n",
              "    </tr>\n",
              "    <tr>\n",
              "      <th>2</th>\n",
              "      <td>alfa-romero</td>\n",
              "      <td>gas</td>\n",
              "      <td>std</td>\n",
              "      <td>two</td>\n",
              "      <td>hatchback</td>\n",
              "      <td>rwd</td>\n",
              "      <td>front</td>\n",
              "      <td>ohcv</td>\n",
              "      <td>six</td>\n",
              "      <td>mpfi</td>\n",
              "    </tr>\n",
              "    <tr>\n",
              "      <th>3</th>\n",
              "      <td>audi</td>\n",
              "      <td>gas</td>\n",
              "      <td>std</td>\n",
              "      <td>four</td>\n",
              "      <td>sedan</td>\n",
              "      <td>fwd</td>\n",
              "      <td>front</td>\n",
              "      <td>ohc</td>\n",
              "      <td>four</td>\n",
              "      <td>mpfi</td>\n",
              "    </tr>\n",
              "    <tr>\n",
              "      <th>4</th>\n",
              "      <td>audi</td>\n",
              "      <td>gas</td>\n",
              "      <td>std</td>\n",
              "      <td>four</td>\n",
              "      <td>sedan</td>\n",
              "      <td>4wd</td>\n",
              "      <td>front</td>\n",
              "      <td>ohc</td>\n",
              "      <td>five</td>\n",
              "      <td>mpfi</td>\n",
              "    </tr>\n",
              "  </tbody>\n",
              "</table>\n",
              "</div>"
            ],
            "text/plain": [
              "          make fuel_type aspiration num_doors   body_style drive_wheels  \\\n",
              "0  alfa-romero       gas        std       two  convertible          rwd   \n",
              "1  alfa-romero       gas        std       two  convertible          rwd   \n",
              "2  alfa-romero       gas        std       two    hatchback          rwd   \n",
              "3         audi       gas        std      four        sedan          fwd   \n",
              "4         audi       gas        std      four        sedan          4wd   \n",
              "\n",
              "  engine_location engine_type num_cylinders fuel_system  \n",
              "0           front        dohc          four        mpfi  \n",
              "1           front        dohc          four        mpfi  \n",
              "2           front        ohcv           six        mpfi  \n",
              "3           front         ohc          four        mpfi  \n",
              "4           front         ohc          five        mpfi  "
            ]
          },
          "metadata": {
            "tags": []
          },
          "execution_count": 3
        }
      ]
    },
    {
      "cell_type": "code",
      "metadata": {
        "id": "cqyAluNrUFrK",
        "outputId": "88187d25-b346-4820-fe29-b293211dd681"
      },
      "source": [
        "df.shape"
      ],
      "execution_count": null,
      "outputs": [
        {
          "output_type": "execute_result",
          "data": {
            "text/plain": [
              "(205, 26)"
            ]
          },
          "metadata": {
            "tags": []
          },
          "execution_count": 4
        }
      ]
    },
    {
      "cell_type": "code",
      "metadata": {
        "id": "jzDdUsONUFrT",
        "outputId": "adf0c060-754d-459d-8f70-1e77596786c9"
      },
      "source": [
        "obj_df[obj_df.isnull().any(axis=1)]"
      ],
      "execution_count": null,
      "outputs": [
        {
          "output_type": "execute_result",
          "data": {
            "text/html": [
              "<div>\n",
              "<style scoped>\n",
              "    .dataframe tbody tr th:only-of-type {\n",
              "        vertical-align: middle;\n",
              "    }\n",
              "\n",
              "    .dataframe tbody tr th {\n",
              "        vertical-align: top;\n",
              "    }\n",
              "\n",
              "    .dataframe thead th {\n",
              "        text-align: right;\n",
              "    }\n",
              "</style>\n",
              "<table border=\"1\" class=\"dataframe\">\n",
              "  <thead>\n",
              "    <tr style=\"text-align: right;\">\n",
              "      <th></th>\n",
              "      <th>make</th>\n",
              "      <th>fuel_type</th>\n",
              "      <th>aspiration</th>\n",
              "      <th>num_doors</th>\n",
              "      <th>body_style</th>\n",
              "      <th>drive_wheels</th>\n",
              "      <th>engine_location</th>\n",
              "      <th>engine_type</th>\n",
              "      <th>num_cylinders</th>\n",
              "      <th>fuel_system</th>\n",
              "    </tr>\n",
              "  </thead>\n",
              "  <tbody>\n",
              "    <tr>\n",
              "      <th>27</th>\n",
              "      <td>dodge</td>\n",
              "      <td>gas</td>\n",
              "      <td>turbo</td>\n",
              "      <td>NaN</td>\n",
              "      <td>sedan</td>\n",
              "      <td>fwd</td>\n",
              "      <td>front</td>\n",
              "      <td>ohc</td>\n",
              "      <td>four</td>\n",
              "      <td>mpfi</td>\n",
              "    </tr>\n",
              "    <tr>\n",
              "      <th>63</th>\n",
              "      <td>mazda</td>\n",
              "      <td>diesel</td>\n",
              "      <td>std</td>\n",
              "      <td>NaN</td>\n",
              "      <td>sedan</td>\n",
              "      <td>fwd</td>\n",
              "      <td>front</td>\n",
              "      <td>ohc</td>\n",
              "      <td>four</td>\n",
              "      <td>idi</td>\n",
              "    </tr>\n",
              "  </tbody>\n",
              "</table>\n",
              "</div>"
            ],
            "text/plain": [
              "     make fuel_type aspiration num_doors body_style drive_wheels  \\\n",
              "27  dodge       gas      turbo       NaN      sedan          fwd   \n",
              "63  mazda    diesel        std       NaN      sedan          fwd   \n",
              "\n",
              "   engine_location engine_type num_cylinders fuel_system  \n",
              "27           front         ohc          four        mpfi  \n",
              "63           front         ohc          four         idi  "
            ]
          },
          "metadata": {
            "tags": []
          },
          "execution_count": 5
        }
      ]
    },
    {
      "cell_type": "code",
      "metadata": {
        "id": "AQ89H3VoUFrZ",
        "outputId": "b0cb841b-e75d-4323-f78e-8abe46d6dde2"
      },
      "source": [
        "obj_df[\"num_doors\"].value_counts()"
      ],
      "execution_count": null,
      "outputs": [
        {
          "output_type": "execute_result",
          "data": {
            "text/plain": [
              "four    114\n",
              "two      89\n",
              "Name: num_doors, dtype: int64"
            ]
          },
          "metadata": {
            "tags": []
          },
          "execution_count": 6
        }
      ]
    },
    {
      "cell_type": "code",
      "metadata": {
        "id": "HeuqczcsUFrh",
        "outputId": "0627a3a5-a6f0-445a-8b82-9d5a3d0cc432"
      },
      "source": [
        "obj_df.groupby(\"num_doors\").num_doors.size()"
      ],
      "execution_count": null,
      "outputs": [
        {
          "output_type": "execute_result",
          "data": {
            "text/plain": [
              "num_doors\n",
              "four    114\n",
              "two      89\n",
              "Name: num_doors, dtype: int64"
            ]
          },
          "metadata": {
            "tags": []
          },
          "execution_count": 9
        }
      ]
    },
    {
      "cell_type": "code",
      "metadata": {
        "id": "0bkn7YnxUFrm"
      },
      "source": [
        "obj_df = obj_df.fillna({\"num_doors\": \"most_frequent\"})"
      ],
      "execution_count": null,
      "outputs": []
    },
    {
      "cell_type": "code",
      "metadata": {
        "id": "Jp589mgNUFrs",
        "outputId": "9ea8e06c-5160-4abf-ba5f-f88aab0f88b0"
      },
      "source": [
        "obj_df[\"num_cylinders\"].value_counts()"
      ],
      "execution_count": null,
      "outputs": [
        {
          "output_type": "execute_result",
          "data": {
            "text/plain": [
              "four      159\n",
              "six        24\n",
              "five       11\n",
              "eight       5\n",
              "two         4\n",
              "twelve      1\n",
              "three       1\n",
              "Name: num_cylinders, dtype: int64"
            ]
          },
          "metadata": {
            "tags": []
          },
          "execution_count": 18
        }
      ]
    },
    {
      "cell_type": "code",
      "metadata": {
        "id": "S2Y6EXYCUFry"
      },
      "source": [
        "cleanup_nums = {\"num_doors\":     {\"four\": 4, \"two\": 2},\n",
        "                \"num_cylinders\": {\"four\": 4, \"six\": 6, \"five\": 5, \"eight\": 8,\n",
        "                                  \"two\": 2, \"twelve\": 12, \"three\":3 }}"
      ],
      "execution_count": null,
      "outputs": []
    },
    {
      "cell_type": "code",
      "metadata": {
        "id": "1GVmkEy1UFr3",
        "outputId": "7725f18f-6d4a-4e35-9ab3-e69c7be11e82"
      },
      "source": [
        "obj_df.replace(cleanup_nums, inplace=True)\n",
        "obj_df.head()"
      ],
      "execution_count": null,
      "outputs": [
        {
          "output_type": "execute_result",
          "data": {
            "text/html": [
              "<div>\n",
              "<style scoped>\n",
              "    .dataframe tbody tr th:only-of-type {\n",
              "        vertical-align: middle;\n",
              "    }\n",
              "\n",
              "    .dataframe tbody tr th {\n",
              "        vertical-align: top;\n",
              "    }\n",
              "\n",
              "    .dataframe thead th {\n",
              "        text-align: right;\n",
              "    }\n",
              "</style>\n",
              "<table border=\"1\" class=\"dataframe\">\n",
              "  <thead>\n",
              "    <tr style=\"text-align: right;\">\n",
              "      <th></th>\n",
              "      <th>make</th>\n",
              "      <th>fuel_type</th>\n",
              "      <th>aspiration</th>\n",
              "      <th>num_doors</th>\n",
              "      <th>body_style</th>\n",
              "      <th>drive_wheels</th>\n",
              "      <th>engine_location</th>\n",
              "      <th>engine_type</th>\n",
              "      <th>num_cylinders</th>\n",
              "      <th>fuel_system</th>\n",
              "    </tr>\n",
              "  </thead>\n",
              "  <tbody>\n",
              "    <tr>\n",
              "      <th>0</th>\n",
              "      <td>alfa-romero</td>\n",
              "      <td>gas</td>\n",
              "      <td>std</td>\n",
              "      <td>2</td>\n",
              "      <td>convertible</td>\n",
              "      <td>rwd</td>\n",
              "      <td>front</td>\n",
              "      <td>dohc</td>\n",
              "      <td>4</td>\n",
              "      <td>mpfi</td>\n",
              "    </tr>\n",
              "    <tr>\n",
              "      <th>1</th>\n",
              "      <td>alfa-romero</td>\n",
              "      <td>gas</td>\n",
              "      <td>std</td>\n",
              "      <td>2</td>\n",
              "      <td>convertible</td>\n",
              "      <td>rwd</td>\n",
              "      <td>front</td>\n",
              "      <td>dohc</td>\n",
              "      <td>4</td>\n",
              "      <td>mpfi</td>\n",
              "    </tr>\n",
              "    <tr>\n",
              "      <th>2</th>\n",
              "      <td>alfa-romero</td>\n",
              "      <td>gas</td>\n",
              "      <td>std</td>\n",
              "      <td>2</td>\n",
              "      <td>hatchback</td>\n",
              "      <td>rwd</td>\n",
              "      <td>front</td>\n",
              "      <td>ohcv</td>\n",
              "      <td>6</td>\n",
              "      <td>mpfi</td>\n",
              "    </tr>\n",
              "    <tr>\n",
              "      <th>3</th>\n",
              "      <td>audi</td>\n",
              "      <td>gas</td>\n",
              "      <td>std</td>\n",
              "      <td>4</td>\n",
              "      <td>sedan</td>\n",
              "      <td>fwd</td>\n",
              "      <td>front</td>\n",
              "      <td>ohc</td>\n",
              "      <td>4</td>\n",
              "      <td>mpfi</td>\n",
              "    </tr>\n",
              "    <tr>\n",
              "      <th>4</th>\n",
              "      <td>audi</td>\n",
              "      <td>gas</td>\n",
              "      <td>std</td>\n",
              "      <td>4</td>\n",
              "      <td>sedan</td>\n",
              "      <td>4wd</td>\n",
              "      <td>front</td>\n",
              "      <td>ohc</td>\n",
              "      <td>5</td>\n",
              "      <td>mpfi</td>\n",
              "    </tr>\n",
              "  </tbody>\n",
              "</table>\n",
              "</div>"
            ],
            "text/plain": [
              "          make fuel_type aspiration num_doors   body_style drive_wheels  \\\n",
              "0  alfa-romero       gas        std         2  convertible          rwd   \n",
              "1  alfa-romero       gas        std         2  convertible          rwd   \n",
              "2  alfa-romero       gas        std         2    hatchback          rwd   \n",
              "3         audi       gas        std         4        sedan          fwd   \n",
              "4         audi       gas        std         4        sedan          4wd   \n",
              "\n",
              "  engine_location engine_type  num_cylinders fuel_system  \n",
              "0           front        dohc              4        mpfi  \n",
              "1           front        dohc              4        mpfi  \n",
              "2           front        ohcv              6        mpfi  \n",
              "3           front         ohc              4        mpfi  \n",
              "4           front         ohc              5        mpfi  "
            ]
          },
          "metadata": {
            "tags": []
          },
          "execution_count": 20
        }
      ]
    },
    {
      "cell_type": "code",
      "metadata": {
        "id": "q7-DSXtKUFr_",
        "outputId": "98462461-514a-42f7-9dcb-1a4a9749c563"
      },
      "source": [
        "obj_df.dtypes"
      ],
      "execution_count": null,
      "outputs": [
        {
          "output_type": "execute_result",
          "data": {
            "text/plain": [
              "make               object\n",
              "fuel_type          object\n",
              "aspiration         object\n",
              "num_doors          object\n",
              "body_style         object\n",
              "drive_wheels       object\n",
              "engine_location    object\n",
              "engine_type        object\n",
              "num_cylinders       int64\n",
              "fuel_system        object\n",
              "dtype: object"
            ]
          },
          "metadata": {
            "tags": []
          },
          "execution_count": 21
        }
      ]
    },
    {
      "cell_type": "markdown",
      "metadata": {
        "id": "3mIBSIMMUFsI"
      },
      "source": [
        "# Approach #2 - Label Encoding"
      ]
    },
    {
      "cell_type": "code",
      "metadata": {
        "id": "CDTbUP6YUFsJ",
        "outputId": "3eaf8c96-ecd7-4fdd-9367-29252201dbf9"
      },
      "source": [
        "obj_df[\"body_style\"] = obj_df[\"body_style\"].astype('category')\n",
        "obj_df.dtypes"
      ],
      "execution_count": null,
      "outputs": [
        {
          "output_type": "execute_result",
          "data": {
            "text/plain": [
              "make                 object\n",
              "fuel_type            object\n",
              "aspiration           object\n",
              "num_doors            object\n",
              "body_style         category\n",
              "drive_wheels         object\n",
              "engine_location      object\n",
              "engine_type          object\n",
              "num_cylinders         int64\n",
              "fuel_system          object\n",
              "dtype: object"
            ]
          },
          "metadata": {
            "tags": []
          },
          "execution_count": 22
        }
      ]
    },
    {
      "cell_type": "code",
      "metadata": {
        "id": "qF_zlNNKUFsO",
        "outputId": "923c03e8-3081-4c7a-ed09-24865d29bb87"
      },
      "source": [
        "obj_df[\"body_style_cat\"] = obj_df[\"body_style\"].cat.codes\n",
        "obj_df.head()"
      ],
      "execution_count": null,
      "outputs": [
        {
          "output_type": "execute_result",
          "data": {
            "text/html": [
              "<div>\n",
              "<style scoped>\n",
              "    .dataframe tbody tr th:only-of-type {\n",
              "        vertical-align: middle;\n",
              "    }\n",
              "\n",
              "    .dataframe tbody tr th {\n",
              "        vertical-align: top;\n",
              "    }\n",
              "\n",
              "    .dataframe thead th {\n",
              "        text-align: right;\n",
              "    }\n",
              "</style>\n",
              "<table border=\"1\" class=\"dataframe\">\n",
              "  <thead>\n",
              "    <tr style=\"text-align: right;\">\n",
              "      <th></th>\n",
              "      <th>make</th>\n",
              "      <th>fuel_type</th>\n",
              "      <th>aspiration</th>\n",
              "      <th>num_doors</th>\n",
              "      <th>body_style</th>\n",
              "      <th>drive_wheels</th>\n",
              "      <th>engine_location</th>\n",
              "      <th>engine_type</th>\n",
              "      <th>num_cylinders</th>\n",
              "      <th>fuel_system</th>\n",
              "      <th>body_style_cat</th>\n",
              "    </tr>\n",
              "  </thead>\n",
              "  <tbody>\n",
              "    <tr>\n",
              "      <th>0</th>\n",
              "      <td>alfa-romero</td>\n",
              "      <td>gas</td>\n",
              "      <td>std</td>\n",
              "      <td>2</td>\n",
              "      <td>convertible</td>\n",
              "      <td>rwd</td>\n",
              "      <td>front</td>\n",
              "      <td>dohc</td>\n",
              "      <td>4</td>\n",
              "      <td>mpfi</td>\n",
              "      <td>0</td>\n",
              "    </tr>\n",
              "    <tr>\n",
              "      <th>1</th>\n",
              "      <td>alfa-romero</td>\n",
              "      <td>gas</td>\n",
              "      <td>std</td>\n",
              "      <td>2</td>\n",
              "      <td>convertible</td>\n",
              "      <td>rwd</td>\n",
              "      <td>front</td>\n",
              "      <td>dohc</td>\n",
              "      <td>4</td>\n",
              "      <td>mpfi</td>\n",
              "      <td>0</td>\n",
              "    </tr>\n",
              "    <tr>\n",
              "      <th>2</th>\n",
              "      <td>alfa-romero</td>\n",
              "      <td>gas</td>\n",
              "      <td>std</td>\n",
              "      <td>2</td>\n",
              "      <td>hatchback</td>\n",
              "      <td>rwd</td>\n",
              "      <td>front</td>\n",
              "      <td>ohcv</td>\n",
              "      <td>6</td>\n",
              "      <td>mpfi</td>\n",
              "      <td>2</td>\n",
              "    </tr>\n",
              "    <tr>\n",
              "      <th>3</th>\n",
              "      <td>audi</td>\n",
              "      <td>gas</td>\n",
              "      <td>std</td>\n",
              "      <td>4</td>\n",
              "      <td>sedan</td>\n",
              "      <td>fwd</td>\n",
              "      <td>front</td>\n",
              "      <td>ohc</td>\n",
              "      <td>4</td>\n",
              "      <td>mpfi</td>\n",
              "      <td>3</td>\n",
              "    </tr>\n",
              "    <tr>\n",
              "      <th>4</th>\n",
              "      <td>audi</td>\n",
              "      <td>gas</td>\n",
              "      <td>std</td>\n",
              "      <td>4</td>\n",
              "      <td>sedan</td>\n",
              "      <td>4wd</td>\n",
              "      <td>front</td>\n",
              "      <td>ohc</td>\n",
              "      <td>5</td>\n",
              "      <td>mpfi</td>\n",
              "      <td>3</td>\n",
              "    </tr>\n",
              "  </tbody>\n",
              "</table>\n",
              "</div>"
            ],
            "text/plain": [
              "          make fuel_type aspiration num_doors   body_style drive_wheels  \\\n",
              "0  alfa-romero       gas        std         2  convertible          rwd   \n",
              "1  alfa-romero       gas        std         2  convertible          rwd   \n",
              "2  alfa-romero       gas        std         2    hatchback          rwd   \n",
              "3         audi       gas        std         4        sedan          fwd   \n",
              "4         audi       gas        std         4        sedan          4wd   \n",
              "\n",
              "  engine_location engine_type  num_cylinders fuel_system  body_style_cat  \n",
              "0           front        dohc              4        mpfi               0  \n",
              "1           front        dohc              4        mpfi               0  \n",
              "2           front        ohcv              6        mpfi               2  \n",
              "3           front         ohc              4        mpfi               3  \n",
              "4           front         ohc              5        mpfi               3  "
            ]
          },
          "metadata": {
            "tags": []
          },
          "execution_count": 26
        }
      ]
    },
    {
      "cell_type": "code",
      "metadata": {
        "id": "FLOQzB7eUFsZ",
        "outputId": "22a28a57-128c-4562-a817-89a8cfbf792e"
      },
      "source": [
        "obj_df.body_style_cat.unique()"
      ],
      "execution_count": null,
      "outputs": [
        {
          "output_type": "execute_result",
          "data": {
            "text/plain": [
              "array([0, 2, 3, 4, 1], dtype=int8)"
            ]
          },
          "metadata": {
            "tags": []
          },
          "execution_count": 24
        }
      ]
    },
    {
      "cell_type": "markdown",
      "metadata": {
        "id": "0OT-PU_lUFsg"
      },
      "source": [
        "# Approach #3 - Dummies Encoding"
      ]
    },
    {
      "cell_type": "code",
      "metadata": {
        "id": "SwDDbXfKUFsi",
        "outputId": "e673027e-ff20-4bb4-d81f-e8e0933afd7b"
      },
      "source": [
        "pd.get_dummies(obj_df, columns=[\"drive_wheels\"]).head()"
      ],
      "execution_count": null,
      "outputs": [
        {
          "output_type": "execute_result",
          "data": {
            "text/html": [
              "<div>\n",
              "<style scoped>\n",
              "    .dataframe tbody tr th:only-of-type {\n",
              "        vertical-align: middle;\n",
              "    }\n",
              "\n",
              "    .dataframe tbody tr th {\n",
              "        vertical-align: top;\n",
              "    }\n",
              "\n",
              "    .dataframe thead th {\n",
              "        text-align: right;\n",
              "    }\n",
              "</style>\n",
              "<table border=\"1\" class=\"dataframe\">\n",
              "  <thead>\n",
              "    <tr style=\"text-align: right;\">\n",
              "      <th></th>\n",
              "      <th>make</th>\n",
              "      <th>fuel_type</th>\n",
              "      <th>aspiration</th>\n",
              "      <th>num_doors</th>\n",
              "      <th>body_style</th>\n",
              "      <th>engine_location</th>\n",
              "      <th>engine_type</th>\n",
              "      <th>num_cylinders</th>\n",
              "      <th>fuel_system</th>\n",
              "      <th>body_style_cat</th>\n",
              "      <th>drive_wheels_4wd</th>\n",
              "      <th>drive_wheels_fwd</th>\n",
              "      <th>drive_wheels_rwd</th>\n",
              "    </tr>\n",
              "  </thead>\n",
              "  <tbody>\n",
              "    <tr>\n",
              "      <th>0</th>\n",
              "      <td>alfa-romero</td>\n",
              "      <td>gas</td>\n",
              "      <td>std</td>\n",
              "      <td>2</td>\n",
              "      <td>convertible</td>\n",
              "      <td>front</td>\n",
              "      <td>dohc</td>\n",
              "      <td>4</td>\n",
              "      <td>mpfi</td>\n",
              "      <td>0</td>\n",
              "      <td>0</td>\n",
              "      <td>0</td>\n",
              "      <td>1</td>\n",
              "    </tr>\n",
              "    <tr>\n",
              "      <th>1</th>\n",
              "      <td>alfa-romero</td>\n",
              "      <td>gas</td>\n",
              "      <td>std</td>\n",
              "      <td>2</td>\n",
              "      <td>convertible</td>\n",
              "      <td>front</td>\n",
              "      <td>dohc</td>\n",
              "      <td>4</td>\n",
              "      <td>mpfi</td>\n",
              "      <td>0</td>\n",
              "      <td>0</td>\n",
              "      <td>0</td>\n",
              "      <td>1</td>\n",
              "    </tr>\n",
              "    <tr>\n",
              "      <th>2</th>\n",
              "      <td>alfa-romero</td>\n",
              "      <td>gas</td>\n",
              "      <td>std</td>\n",
              "      <td>2</td>\n",
              "      <td>hatchback</td>\n",
              "      <td>front</td>\n",
              "      <td>ohcv</td>\n",
              "      <td>6</td>\n",
              "      <td>mpfi</td>\n",
              "      <td>2</td>\n",
              "      <td>0</td>\n",
              "      <td>0</td>\n",
              "      <td>1</td>\n",
              "    </tr>\n",
              "    <tr>\n",
              "      <th>3</th>\n",
              "      <td>audi</td>\n",
              "      <td>gas</td>\n",
              "      <td>std</td>\n",
              "      <td>4</td>\n",
              "      <td>sedan</td>\n",
              "      <td>front</td>\n",
              "      <td>ohc</td>\n",
              "      <td>4</td>\n",
              "      <td>mpfi</td>\n",
              "      <td>3</td>\n",
              "      <td>0</td>\n",
              "      <td>1</td>\n",
              "      <td>0</td>\n",
              "    </tr>\n",
              "    <tr>\n",
              "      <th>4</th>\n",
              "      <td>audi</td>\n",
              "      <td>gas</td>\n",
              "      <td>std</td>\n",
              "      <td>4</td>\n",
              "      <td>sedan</td>\n",
              "      <td>front</td>\n",
              "      <td>ohc</td>\n",
              "      <td>5</td>\n",
              "      <td>mpfi</td>\n",
              "      <td>3</td>\n",
              "      <td>1</td>\n",
              "      <td>0</td>\n",
              "      <td>0</td>\n",
              "    </tr>\n",
              "  </tbody>\n",
              "</table>\n",
              "</div>"
            ],
            "text/plain": [
              "          make fuel_type aspiration num_doors   body_style engine_location  \\\n",
              "0  alfa-romero       gas        std         2  convertible           front   \n",
              "1  alfa-romero       gas        std         2  convertible           front   \n",
              "2  alfa-romero       gas        std         2    hatchback           front   \n",
              "3         audi       gas        std         4        sedan           front   \n",
              "4         audi       gas        std         4        sedan           front   \n",
              "\n",
              "  engine_type  num_cylinders fuel_system  body_style_cat  drive_wheels_4wd  \\\n",
              "0        dohc              4        mpfi               0                 0   \n",
              "1        dohc              4        mpfi               0                 0   \n",
              "2        ohcv              6        mpfi               2                 0   \n",
              "3         ohc              4        mpfi               3                 0   \n",
              "4         ohc              5        mpfi               3                 1   \n",
              "\n",
              "   drive_wheels_fwd  drive_wheels_rwd  \n",
              "0                 0                 1  \n",
              "1                 0                 1  \n",
              "2                 0                 1  \n",
              "3                 1                 0  \n",
              "4                 0                 0  "
            ]
          },
          "metadata": {
            "tags": []
          },
          "execution_count": 25
        }
      ]
    },
    {
      "cell_type": "code",
      "metadata": {
        "id": "6-UwAlsxUFsq",
        "outputId": "729a6241-44ab-4f68-af41-f5bf9574caf3"
      },
      "source": [
        "pd.get_dummies(obj_df, columns=[\"body_style\", \"drive_wheels\"], prefix=[\"body\", \"drive\"]).head()\n"
      ],
      "execution_count": null,
      "outputs": [
        {
          "output_type": "execute_result",
          "data": {
            "text/html": [
              "<div>\n",
              "<style scoped>\n",
              "    .dataframe tbody tr th:only-of-type {\n",
              "        vertical-align: middle;\n",
              "    }\n",
              "\n",
              "    .dataframe tbody tr th {\n",
              "        vertical-align: top;\n",
              "    }\n",
              "\n",
              "    .dataframe thead th {\n",
              "        text-align: right;\n",
              "    }\n",
              "</style>\n",
              "<table border=\"1\" class=\"dataframe\">\n",
              "  <thead>\n",
              "    <tr style=\"text-align: right;\">\n",
              "      <th></th>\n",
              "      <th>make</th>\n",
              "      <th>fuel_type</th>\n",
              "      <th>aspiration</th>\n",
              "      <th>num_doors</th>\n",
              "      <th>engine_location</th>\n",
              "      <th>engine_type</th>\n",
              "      <th>num_cylinders</th>\n",
              "      <th>fuel_system</th>\n",
              "      <th>body_style_cat</th>\n",
              "      <th>body_convertible</th>\n",
              "      <th>body_hardtop</th>\n",
              "      <th>body_hatchback</th>\n",
              "      <th>body_sedan</th>\n",
              "      <th>body_wagon</th>\n",
              "      <th>drive_4wd</th>\n",
              "      <th>drive_fwd</th>\n",
              "      <th>drive_rwd</th>\n",
              "    </tr>\n",
              "  </thead>\n",
              "  <tbody>\n",
              "    <tr>\n",
              "      <th>0</th>\n",
              "      <td>alfa-romero</td>\n",
              "      <td>gas</td>\n",
              "      <td>std</td>\n",
              "      <td>2</td>\n",
              "      <td>front</td>\n",
              "      <td>dohc</td>\n",
              "      <td>4</td>\n",
              "      <td>mpfi</td>\n",
              "      <td>0</td>\n",
              "      <td>1</td>\n",
              "      <td>0</td>\n",
              "      <td>0</td>\n",
              "      <td>0</td>\n",
              "      <td>0</td>\n",
              "      <td>0</td>\n",
              "      <td>0</td>\n",
              "      <td>1</td>\n",
              "    </tr>\n",
              "    <tr>\n",
              "      <th>1</th>\n",
              "      <td>alfa-romero</td>\n",
              "      <td>gas</td>\n",
              "      <td>std</td>\n",
              "      <td>2</td>\n",
              "      <td>front</td>\n",
              "      <td>dohc</td>\n",
              "      <td>4</td>\n",
              "      <td>mpfi</td>\n",
              "      <td>0</td>\n",
              "      <td>1</td>\n",
              "      <td>0</td>\n",
              "      <td>0</td>\n",
              "      <td>0</td>\n",
              "      <td>0</td>\n",
              "      <td>0</td>\n",
              "      <td>0</td>\n",
              "      <td>1</td>\n",
              "    </tr>\n",
              "    <tr>\n",
              "      <th>2</th>\n",
              "      <td>alfa-romero</td>\n",
              "      <td>gas</td>\n",
              "      <td>std</td>\n",
              "      <td>2</td>\n",
              "      <td>front</td>\n",
              "      <td>ohcv</td>\n",
              "      <td>6</td>\n",
              "      <td>mpfi</td>\n",
              "      <td>2</td>\n",
              "      <td>0</td>\n",
              "      <td>0</td>\n",
              "      <td>1</td>\n",
              "      <td>0</td>\n",
              "      <td>0</td>\n",
              "      <td>0</td>\n",
              "      <td>0</td>\n",
              "      <td>1</td>\n",
              "    </tr>\n",
              "    <tr>\n",
              "      <th>3</th>\n",
              "      <td>audi</td>\n",
              "      <td>gas</td>\n",
              "      <td>std</td>\n",
              "      <td>4</td>\n",
              "      <td>front</td>\n",
              "      <td>ohc</td>\n",
              "      <td>4</td>\n",
              "      <td>mpfi</td>\n",
              "      <td>3</td>\n",
              "      <td>0</td>\n",
              "      <td>0</td>\n",
              "      <td>0</td>\n",
              "      <td>1</td>\n",
              "      <td>0</td>\n",
              "      <td>0</td>\n",
              "      <td>1</td>\n",
              "      <td>0</td>\n",
              "    </tr>\n",
              "    <tr>\n",
              "      <th>4</th>\n",
              "      <td>audi</td>\n",
              "      <td>gas</td>\n",
              "      <td>std</td>\n",
              "      <td>4</td>\n",
              "      <td>front</td>\n",
              "      <td>ohc</td>\n",
              "      <td>5</td>\n",
              "      <td>mpfi</td>\n",
              "      <td>3</td>\n",
              "      <td>0</td>\n",
              "      <td>0</td>\n",
              "      <td>0</td>\n",
              "      <td>1</td>\n",
              "      <td>0</td>\n",
              "      <td>1</td>\n",
              "      <td>0</td>\n",
              "      <td>0</td>\n",
              "    </tr>\n",
              "  </tbody>\n",
              "</table>\n",
              "</div>"
            ],
            "text/plain": [
              "          make fuel_type aspiration num_doors engine_location engine_type  \\\n",
              "0  alfa-romero       gas        std         2           front        dohc   \n",
              "1  alfa-romero       gas        std         2           front        dohc   \n",
              "2  alfa-romero       gas        std         2           front        ohcv   \n",
              "3         audi       gas        std         4           front         ohc   \n",
              "4         audi       gas        std         4           front         ohc   \n",
              "\n",
              "   num_cylinders fuel_system  body_style_cat  body_convertible  body_hardtop  \\\n",
              "0              4        mpfi               0                 1             0   \n",
              "1              4        mpfi               0                 1             0   \n",
              "2              6        mpfi               2                 0             0   \n",
              "3              4        mpfi               3                 0             0   \n",
              "4              5        mpfi               3                 0             0   \n",
              "\n",
              "   body_hatchback  body_sedan  body_wagon  drive_4wd  drive_fwd  drive_rwd  \n",
              "0               0           0           0          0          0          1  \n",
              "1               0           0           0          0          0          1  \n",
              "2               1           0           0          0          0          1  \n",
              "3               0           1           0          0          1          0  \n",
              "4               0           1           0          1          0          0  "
            ]
          },
          "metadata": {
            "tags": []
          },
          "execution_count": 27
        }
      ]
    },
    {
      "cell_type": "markdown",
      "metadata": {
        "id": "5JzqzhcdUFsv"
      },
      "source": [
        "# Approach #4 - Custom Binary Encoding"
      ]
    },
    {
      "cell_type": "code",
      "metadata": {
        "id": "76sFFbiAUFsx",
        "outputId": "7f743c8c-b9b5-4011-80ea-4c6b231f6816"
      },
      "source": [
        "obj_df[\"engine_type\"].value_counts()"
      ],
      "execution_count": null,
      "outputs": [
        {
          "output_type": "execute_result",
          "data": {
            "text/plain": [
              "ohc      148\n",
              "ohcf      15\n",
              "ohcv      13\n",
              "dohc      12\n",
              "l         12\n",
              "rotor      4\n",
              "dohcv      1\n",
              "Name: engine_type, dtype: int64"
            ]
          },
          "metadata": {
            "tags": []
          },
          "execution_count": 28
        }
      ]
    },
    {
      "cell_type": "code",
      "metadata": {
        "id": "axxh_-3eUFs3"
      },
      "source": [
        "obj_df[\"OHC_Code\"] = np.where(obj_df[\"engine_type\"].str.contains(\"ohc\"), 1, 0)"
      ],
      "execution_count": null,
      "outputs": []
    },
    {
      "cell_type": "code",
      "metadata": {
        "id": "NKSROcWhUFs9",
        "outputId": "e7a98b3b-7c96-4ae9-dca3-00a7d0ca047a"
      },
      "source": [
        "obj_df.OHC_Code.unique()"
      ],
      "execution_count": null,
      "outputs": [
        {
          "output_type": "execute_result",
          "data": {
            "text/plain": [
              "array([1, 0])"
            ]
          },
          "metadata": {
            "tags": []
          },
          "execution_count": 32
        }
      ]
    },
    {
      "cell_type": "code",
      "metadata": {
        "id": "ZAWrmZ_lUFtF",
        "outputId": "ab876f26-d3c1-4ed9-da8f-9e85634bb0da"
      },
      "source": [
        "obj_df[[\"make\", \"engine_type\", \"OHC_Code\"]].head()"
      ],
      "execution_count": null,
      "outputs": [
        {
          "output_type": "execute_result",
          "data": {
            "text/html": [
              "<div>\n",
              "<style scoped>\n",
              "    .dataframe tbody tr th:only-of-type {\n",
              "        vertical-align: middle;\n",
              "    }\n",
              "\n",
              "    .dataframe tbody tr th {\n",
              "        vertical-align: top;\n",
              "    }\n",
              "\n",
              "    .dataframe thead th {\n",
              "        text-align: right;\n",
              "    }\n",
              "</style>\n",
              "<table border=\"1\" class=\"dataframe\">\n",
              "  <thead>\n",
              "    <tr style=\"text-align: right;\">\n",
              "      <th></th>\n",
              "      <th>make</th>\n",
              "      <th>engine_type</th>\n",
              "      <th>OHC_Code</th>\n",
              "    </tr>\n",
              "  </thead>\n",
              "  <tbody>\n",
              "    <tr>\n",
              "      <th>0</th>\n",
              "      <td>alfa-romero</td>\n",
              "      <td>dohc</td>\n",
              "      <td>1</td>\n",
              "    </tr>\n",
              "    <tr>\n",
              "      <th>1</th>\n",
              "      <td>alfa-romero</td>\n",
              "      <td>dohc</td>\n",
              "      <td>1</td>\n",
              "    </tr>\n",
              "    <tr>\n",
              "      <th>2</th>\n",
              "      <td>alfa-romero</td>\n",
              "      <td>ohcv</td>\n",
              "      <td>1</td>\n",
              "    </tr>\n",
              "    <tr>\n",
              "      <th>3</th>\n",
              "      <td>audi</td>\n",
              "      <td>ohc</td>\n",
              "      <td>1</td>\n",
              "    </tr>\n",
              "    <tr>\n",
              "      <th>4</th>\n",
              "      <td>audi</td>\n",
              "      <td>ohc</td>\n",
              "      <td>1</td>\n",
              "    </tr>\n",
              "  </tbody>\n",
              "</table>\n",
              "</div>"
            ],
            "text/plain": [
              "          make engine_type  OHC_Code\n",
              "0  alfa-romero        dohc         1\n",
              "1  alfa-romero        dohc         1\n",
              "2  alfa-romero        ohcv         1\n",
              "3         audi         ohc         1\n",
              "4         audi         ohc         1"
            ]
          },
          "metadata": {
            "tags": []
          },
          "execution_count": 33
        }
      ]
    },
    {
      "cell_type": "markdown",
      "metadata": {
        "id": "_beScJ9DUFtO"
      },
      "source": [
        "## Scikit-Learn  LabelEncoder"
      ]
    },
    {
      "cell_type": "code",
      "metadata": {
        "id": "PPHgnJ3pUFtQ",
        "outputId": "390a2ddc-c6fa-4e77-bfd0-78d1be34f2d8"
      },
      "source": [
        "from sklearn.preprocessing import LabelEncoder\n",
        "\n",
        "lb_make = LabelEncoder()\n",
        "obj_df[\"make_code\"] = lb_make.fit_transform(obj_df[\"make\"])\n",
        "obj_df[[\"make\", \"make_code\"]].head(11)"
      ],
      "execution_count": null,
      "outputs": [
        {
          "output_type": "execute_result",
          "data": {
            "text/html": [
              "<div>\n",
              "<style scoped>\n",
              "    .dataframe tbody tr th:only-of-type {\n",
              "        vertical-align: middle;\n",
              "    }\n",
              "\n",
              "    .dataframe tbody tr th {\n",
              "        vertical-align: top;\n",
              "    }\n",
              "\n",
              "    .dataframe thead th {\n",
              "        text-align: right;\n",
              "    }\n",
              "</style>\n",
              "<table border=\"1\" class=\"dataframe\">\n",
              "  <thead>\n",
              "    <tr style=\"text-align: right;\">\n",
              "      <th></th>\n",
              "      <th>make</th>\n",
              "      <th>make_code</th>\n",
              "    </tr>\n",
              "  </thead>\n",
              "  <tbody>\n",
              "    <tr>\n",
              "      <th>0</th>\n",
              "      <td>alfa-romero</td>\n",
              "      <td>0</td>\n",
              "    </tr>\n",
              "    <tr>\n",
              "      <th>1</th>\n",
              "      <td>alfa-romero</td>\n",
              "      <td>0</td>\n",
              "    </tr>\n",
              "    <tr>\n",
              "      <th>2</th>\n",
              "      <td>alfa-romero</td>\n",
              "      <td>0</td>\n",
              "    </tr>\n",
              "    <tr>\n",
              "      <th>3</th>\n",
              "      <td>audi</td>\n",
              "      <td>1</td>\n",
              "    </tr>\n",
              "    <tr>\n",
              "      <th>4</th>\n",
              "      <td>audi</td>\n",
              "      <td>1</td>\n",
              "    </tr>\n",
              "    <tr>\n",
              "      <th>5</th>\n",
              "      <td>audi</td>\n",
              "      <td>1</td>\n",
              "    </tr>\n",
              "    <tr>\n",
              "      <th>6</th>\n",
              "      <td>audi</td>\n",
              "      <td>1</td>\n",
              "    </tr>\n",
              "    <tr>\n",
              "      <th>7</th>\n",
              "      <td>audi</td>\n",
              "      <td>1</td>\n",
              "    </tr>\n",
              "    <tr>\n",
              "      <th>8</th>\n",
              "      <td>audi</td>\n",
              "      <td>1</td>\n",
              "    </tr>\n",
              "    <tr>\n",
              "      <th>9</th>\n",
              "      <td>audi</td>\n",
              "      <td>1</td>\n",
              "    </tr>\n",
              "    <tr>\n",
              "      <th>10</th>\n",
              "      <td>bmw</td>\n",
              "      <td>2</td>\n",
              "    </tr>\n",
              "  </tbody>\n",
              "</table>\n",
              "</div>"
            ],
            "text/plain": [
              "           make  make_code\n",
              "0   alfa-romero          0\n",
              "1   alfa-romero          0\n",
              "2   alfa-romero          0\n",
              "3          audi          1\n",
              "4          audi          1\n",
              "5          audi          1\n",
              "6          audi          1\n",
              "7          audi          1\n",
              "8          audi          1\n",
              "9          audi          1\n",
              "10          bmw          2"
            ]
          },
          "metadata": {
            "tags": []
          },
          "execution_count": 34
        }
      ]
    },
    {
      "cell_type": "code",
      "metadata": {
        "id": "e5vO5cvSUFtX",
        "outputId": "9f204547-b131-4786-eec9-8748147c9b43"
      },
      "source": [
        "obj_df[\"body_style\"].unique()"
      ],
      "execution_count": null,
      "outputs": [
        {
          "output_type": "execute_result",
          "data": {
            "text/plain": [
              "[convertible, hatchback, sedan, wagon, hardtop]\n",
              "Categories (5, object): [convertible, hatchback, sedan, wagon, hardtop]"
            ]
          },
          "metadata": {
            "tags": []
          },
          "execution_count": 35
        }
      ]
    },
    {
      "cell_type": "markdown",
      "metadata": {
        "id": "Xo4a265cVPhD"
      },
      "source": [
        "## Sklearn  LabelBinarizer"
      ]
    },
    {
      "cell_type": "code",
      "metadata": {
        "id": "p7n0RQ46UFtc",
        "outputId": "91332de6-62b1-4fca-86f4-3b2305acc95f"
      },
      "source": [
        "from sklearn.preprocessing import LabelBinarizer\n",
        "\n",
        "lb_style = LabelBinarizer()\n",
        "lb_results = lb_style.fit_transform(obj_df[\"body_style\"])\n",
        "pd.DataFrame(lb_results, columns=lb_style.classes_).head()"
      ],
      "execution_count": null,
      "outputs": [
        {
          "output_type": "execute_result",
          "data": {
            "text/html": [
              "<div>\n",
              "<style scoped>\n",
              "    .dataframe tbody tr th:only-of-type {\n",
              "        vertical-align: middle;\n",
              "    }\n",
              "\n",
              "    .dataframe tbody tr th {\n",
              "        vertical-align: top;\n",
              "    }\n",
              "\n",
              "    .dataframe thead th {\n",
              "        text-align: right;\n",
              "    }\n",
              "</style>\n",
              "<table border=\"1\" class=\"dataframe\">\n",
              "  <thead>\n",
              "    <tr style=\"text-align: right;\">\n",
              "      <th></th>\n",
              "      <th>convertible</th>\n",
              "      <th>hardtop</th>\n",
              "      <th>hatchback</th>\n",
              "      <th>sedan</th>\n",
              "      <th>wagon</th>\n",
              "    </tr>\n",
              "  </thead>\n",
              "  <tbody>\n",
              "    <tr>\n",
              "      <th>0</th>\n",
              "      <td>1</td>\n",
              "      <td>0</td>\n",
              "      <td>0</td>\n",
              "      <td>0</td>\n",
              "      <td>0</td>\n",
              "    </tr>\n",
              "    <tr>\n",
              "      <th>1</th>\n",
              "      <td>1</td>\n",
              "      <td>0</td>\n",
              "      <td>0</td>\n",
              "      <td>0</td>\n",
              "      <td>0</td>\n",
              "    </tr>\n",
              "    <tr>\n",
              "      <th>2</th>\n",
              "      <td>0</td>\n",
              "      <td>0</td>\n",
              "      <td>1</td>\n",
              "      <td>0</td>\n",
              "      <td>0</td>\n",
              "    </tr>\n",
              "    <tr>\n",
              "      <th>3</th>\n",
              "      <td>0</td>\n",
              "      <td>0</td>\n",
              "      <td>0</td>\n",
              "      <td>1</td>\n",
              "      <td>0</td>\n",
              "    </tr>\n",
              "    <tr>\n",
              "      <th>4</th>\n",
              "      <td>0</td>\n",
              "      <td>0</td>\n",
              "      <td>0</td>\n",
              "      <td>1</td>\n",
              "      <td>0</td>\n",
              "    </tr>\n",
              "  </tbody>\n",
              "</table>\n",
              "</div>"
            ],
            "text/plain": [
              "   convertible  hardtop  hatchback  sedan  wagon\n",
              "0            1        0          0      0      0\n",
              "1            1        0          0      0      0\n",
              "2            0        0          1      0      0\n",
              "3            0        0          0      1      0\n",
              "4            0        0          0      1      0"
            ]
          },
          "metadata": {
            "tags": []
          },
          "execution_count": 36
        }
      ]
    },
    {
      "cell_type": "code",
      "metadata": {
        "id": "4UFV8GrbUFth",
        "outputId": "6fac1d0e-b0d2-49d9-bc0b-8c1a553291f5"
      },
      "source": [
        "obj_df.keys()"
      ],
      "execution_count": null,
      "outputs": [
        {
          "output_type": "execute_result",
          "data": {
            "text/plain": [
              "Index(['make', 'fuel_type', 'aspiration', 'num_doors', 'body_style',\n",
              "       'drive_wheels', 'engine_location', 'engine_type', 'num_cylinders',\n",
              "       'fuel_system', 'body_style_cat', 'OHC_Code', 'make_code'],\n",
              "      dtype='object')"
            ]
          },
          "metadata": {
            "tags": []
          },
          "execution_count": 45
        }
      ]
    },
    {
      "cell_type": "markdown",
      "metadata": {
        "id": "_gMViGd_VJuD"
      },
      "source": [
        "##  Custom  ENcoding Function"
      ]
    },
    {
      "cell_type": "code",
      "metadata": {
        "id": "y6FwURYDUFtp"
      },
      "source": [
        "def lbEnconding(obj):\n",
        "    class_mapping = {label: idx for idx, label in enumerate(np.unique(obj))}\n",
        "    #obj_df['body_style_Encoded'] = obj_df['body_style'].map(class_mapping)\n",
        "    return obj.map(class_mapping)"
      ],
      "execution_count": null,
      "outputs": []
    },
    {
      "cell_type": "code",
      "metadata": {
        "id": "mTAE_0ZGUFty",
        "outputId": "1c309c0d-4d18-4749-e38e-7b1cdb6fb0df"
      },
      "source": [
        "lbEnconding(obj_df['body_style']).head()\n",
        "\n",
        "# obj_df[['body_style', \"body_style_Encoded\"]].head()"
      ],
      "execution_count": null,
      "outputs": [
        {
          "output_type": "execute_result",
          "data": {
            "text/plain": [
              "0    0\n",
              "1    0\n",
              "2    2\n",
              "3    3\n",
              "4    3\n",
              "Name: body_style, dtype: category\n",
              "Categories (5, int64): [0, 1, 2, 3, 4]"
            ]
          },
          "metadata": {
            "tags": []
          },
          "execution_count": 85
        }
      ]
    },
    {
      "cell_type": "code",
      "metadata": {
        "id": "f3Xj5gXfUFt6",
        "outputId": "51771edc-238d-40e9-a4b5-e46efe039535"
      },
      "source": [
        "obj_df.body_style.unique()"
      ],
      "execution_count": null,
      "outputs": [
        {
          "output_type": "execute_result",
          "data": {
            "text/plain": [
              "[convertible, hatchback, sedan, wagon, hardtop]\n",
              "Categories (5, object): [convertible, hatchback, sedan, wagon, hardtop]"
            ]
          },
          "metadata": {
            "tags": []
          },
          "execution_count": 51
        }
      ]
    },
    {
      "cell_type": "code",
      "metadata": {
        "id": "lqHor7KlUFuF",
        "outputId": "4d03a343-861d-412f-c8b1-a7212b7af254"
      },
      "source": [
        "class_mapping"
      ],
      "execution_count": null,
      "outputs": [
        {
          "output_type": "execute_result",
          "data": {
            "text/plain": [
              "{'convertible': 0, 'hardtop': 1, 'hatchback': 2, 'sedan': 3, 'wagon': 4}"
            ]
          },
          "metadata": {
            "tags": []
          },
          "execution_count": 52
        }
      ]
    },
    {
      "cell_type": "code",
      "metadata": {
        "id": "WXMgH0m9UFuM",
        "outputId": "142877bd-91d8-4027-a128-d5d15430bce3"
      },
      "source": [
        "{ v:k  for k, v in class_mapping.items()}"
      ],
      "execution_count": null,
      "outputs": [
        {
          "output_type": "execute_result",
          "data": {
            "text/plain": [
              "{0: 'convertible', 1: 'hardtop', 2: 'hatchback', 3: 'sedan', 4: 'wagon'}"
            ]
          },
          "metadata": {
            "tags": []
          },
          "execution_count": 64
        }
      ]
    },
    {
      "cell_type": "code",
      "metadata": {
        "id": "11L_rDWsUFuV",
        "outputId": "2909d7ea-f53f-4d15-acec-0967d2286c20"
      },
      "source": [
        "{k:v for k , v in enumerate(class_mapping)}"
      ],
      "execution_count": null,
      "outputs": [
        {
          "output_type": "execute_result",
          "data": {
            "text/plain": [
              "{0: 'convertible', 1: 'hardtop', 2: 'hatchback', 3: 'sedan', 4: 'wagon'}"
            ]
          },
          "metadata": {
            "tags": []
          },
          "execution_count": 61
        }
      ]
    },
    {
      "cell_type": "code",
      "metadata": {
        "id": "x3yflUwcUFub",
        "outputId": "03799ff0-75fe-47ec-b455-b870a7133a79"
      },
      "source": [
        "obj_df[\"body_style_Encoded\"].map({ v:k  for k, v in class_mapping.items()})"
      ],
      "execution_count": null,
      "outputs": [
        {
          "output_type": "execute_result",
          "data": {
            "text/plain": [
              "0      convertible\n",
              "1      convertible\n",
              "2        hatchback\n",
              "3            sedan\n",
              "4            sedan\n",
              "          ...     \n",
              "200          sedan\n",
              "201          sedan\n",
              "202          sedan\n",
              "203          sedan\n",
              "204          sedan\n",
              "Name: body_style_Encoded, Length: 205, dtype: category\n",
              "Categories (5, object): [convertible, hardtop, hatchback, sedan, wagon]"
            ]
          },
          "metadata": {
            "tags": []
          },
          "execution_count": 70
        }
      ]
    },
    {
      "cell_type": "code",
      "metadata": {
        "id": "BQplAQi2UFui"
      },
      "source": [
        "from sklearn.preprocessing import LabelEncoder\n",
        "class_le = LabelEncoder()\n",
        "y=class_le.fit_transform(obj_df['body_style'].values)"
      ],
      "execution_count": null,
      "outputs": []
    },
    {
      "cell_type": "code",
      "metadata": {
        "id": "uWsHsgTlUFur"
      },
      "source": [
        "# inverse Transform\n",
        "class_le.inverse_transform(y)"
      ],
      "execution_count": null,
      "outputs": []
    },
    {
      "cell_type": "code",
      "metadata": {
        "id": "ta7g0FJXUFux"
      },
      "source": [],
      "execution_count": null,
      "outputs": []
    },
    {
      "cell_type": "markdown",
      "metadata": {
        "id": "bm2M6IegUFu4"
      },
      "source": [
        "# Advanced Approaches"
      ]
    },
    {
      "cell_type": "code",
      "metadata": {
        "id": "CZe2ysf7UFu5",
        "outputId": "d5d88d6f-8b99-47f5-b660-68abfe47d44c"
      },
      "source": [
        "import category_encoders as ce\n",
        "\n",
        "# Get a new clean dataframe\n",
        "obj_df = df.select_dtypes(include=['object']).copy()\n",
        "\n",
        "# Specify the columns to encode then fit and transform\n",
        "encoder = ce.backward_difference.BackwardDifferenceEncoder(cols=[\"engine_type\"])\n",
        "encoder.fit(obj_df, verbose=1)\n",
        "\n",
        "# Only display the first 8 columns for brevity\n",
        "encoder.transform(obj_df).iloc[:,0:7].head()"
      ],
      "execution_count": null,
      "outputs": [
        {
          "output_type": "error",
          "ename": "ModuleNotFoundError",
          "evalue": "No module named 'category_encoders'",
          "traceback": [
            "\u001b[0;31m---------------------------------------------------------------------------\u001b[0m",
            "\u001b[0;31mModuleNotFoundError\u001b[0m                       Traceback (most recent call last)",
            "\u001b[0;32m<ipython-input-44-aef7dba06251>\u001b[0m in \u001b[0;36m<module>\u001b[0;34m\u001b[0m\n\u001b[0;32m----> 1\u001b[0;31m \u001b[0;32mimport\u001b[0m \u001b[0mcategory_encoders\u001b[0m \u001b[0;32mas\u001b[0m \u001b[0mce\u001b[0m\u001b[0;34m\u001b[0m\u001b[0;34m\u001b[0m\u001b[0m\n\u001b[0m\u001b[1;32m      2\u001b[0m \u001b[0;34m\u001b[0m\u001b[0m\n\u001b[1;32m      3\u001b[0m \u001b[0;31m# Get a new clean dataframe\u001b[0m\u001b[0;34m\u001b[0m\u001b[0;34m\u001b[0m\u001b[0;34m\u001b[0m\u001b[0m\n\u001b[1;32m      4\u001b[0m \u001b[0mobj_df\u001b[0m \u001b[0;34m=\u001b[0m \u001b[0mdf\u001b[0m\u001b[0;34m.\u001b[0m\u001b[0mselect_dtypes\u001b[0m\u001b[0;34m(\u001b[0m\u001b[0minclude\u001b[0m\u001b[0;34m=\u001b[0m\u001b[0;34m[\u001b[0m\u001b[0;34m'object'\u001b[0m\u001b[0;34m]\u001b[0m\u001b[0;34m)\u001b[0m\u001b[0;34m.\u001b[0m\u001b[0mcopy\u001b[0m\u001b[0;34m(\u001b[0m\u001b[0;34m)\u001b[0m\u001b[0;34m\u001b[0m\u001b[0;34m\u001b[0m\u001b[0m\n\u001b[1;32m      5\u001b[0m \u001b[0;34m\u001b[0m\u001b[0m\n",
            "\u001b[0;31mModuleNotFoundError\u001b[0m: No module named 'category_encoders'"
          ]
        }
      ]
    },
    {
      "cell_type": "code",
      "metadata": {
        "id": "Z3CbcPZiUFu-"
      },
      "source": [],
      "execution_count": null,
      "outputs": []
    },
    {
      "cell_type": "code",
      "metadata": {
        "id": "XfxjCQhjUFvH"
      },
      "source": [],
      "execution_count": null,
      "outputs": []
    },
    {
      "cell_type": "markdown",
      "metadata": {
        "id": "WNGEbkRoUFvK"
      },
      "source": [
        "# My fst ML Project "
      ]
    },
    {
      "cell_type": "code",
      "metadata": {
        "id": "ANI0U-fuUFvK",
        "outputId": "054b29a4-cf27-4eec-e2dd-b307007e4a99"
      },
      "source": [
        "print(\"Hello. ML\")"
      ],
      "execution_count": null,
      "outputs": [
        {
          "output_type": "stream",
          "text": [
            "Hello. ML\n"
          ],
          "name": "stdout"
        }
      ]
    },
    {
      "cell_type": "code",
      "metadata": {
        "id": "GfwLrao6UFvS"
      },
      "source": [
        "from sklearn import datasets"
      ],
      "execution_count": null,
      "outputs": []
    },
    {
      "cell_type": "code",
      "metadata": {
        "id": "4QMdxLC7UFvW"
      },
      "source": [
        "df=datasets.load_iris()"
      ],
      "execution_count": null,
      "outputs": []
    },
    {
      "cell_type": "code",
      "metadata": {
        "id": "gd8OsXTEUFvb",
        "outputId": "91aa7511-53a2-4ed9-923a-48eca19e3a2a"
      },
      "source": [
        "df.keys()"
      ],
      "execution_count": null,
      "outputs": [
        {
          "output_type": "execute_result",
          "data": {
            "text/plain": [
              "dict_keys(['data', 'target', 'target_names', 'DESCR', 'feature_names', 'filename'])"
            ]
          },
          "metadata": {
            "tags": []
          },
          "execution_count": 105
        }
      ]
    },
    {
      "cell_type": "code",
      "metadata": {
        "id": "HyhNM-DpUFve",
        "outputId": "222f2c9e-7c21-4d21-a282-cc646940515e"
      },
      "source": [
        "df.feature_names"
      ],
      "execution_count": null,
      "outputs": [
        {
          "output_type": "execute_result",
          "data": {
            "text/plain": [
              "['sepal length (cm)',\n",
              " 'sepal width (cm)',\n",
              " 'petal length (cm)',\n",
              " 'petal width (cm)']"
            ]
          },
          "metadata": {
            "tags": []
          },
          "execution_count": 106
        }
      ]
    },
    {
      "cell_type": "code",
      "metadata": {
        "id": "4ljqF0IHUFvh"
      },
      "source": [
        "iris=pd.DataFrame(iris.data, columns=iris.feature_names)"
      ],
      "execution_count": null,
      "outputs": []
    },
    {
      "cell_type": "code",
      "metadata": {
        "id": "yyyHU35HUFvm",
        "outputId": "985d4ee8-535e-43af-af06-ac5f4584d494"
      },
      "source": [
        "iris.head()\n"
      ],
      "execution_count": null,
      "outputs": [
        {
          "output_type": "execute_result",
          "data": {
            "text/html": [
              "<div>\n",
              "<style scoped>\n",
              "    .dataframe tbody tr th:only-of-type {\n",
              "        vertical-align: middle;\n",
              "    }\n",
              "\n",
              "    .dataframe tbody tr th {\n",
              "        vertical-align: top;\n",
              "    }\n",
              "\n",
              "    .dataframe thead th {\n",
              "        text-align: right;\n",
              "    }\n",
              "</style>\n",
              "<table border=\"1\" class=\"dataframe\">\n",
              "  <thead>\n",
              "    <tr style=\"text-align: right;\">\n",
              "      <th></th>\n",
              "      <th>sepal length (cm)</th>\n",
              "      <th>sepal width (cm)</th>\n",
              "      <th>petal length (cm)</th>\n",
              "      <th>petal width (cm)</th>\n",
              "    </tr>\n",
              "  </thead>\n",
              "  <tbody>\n",
              "    <tr>\n",
              "      <th>0</th>\n",
              "      <td>5.1</td>\n",
              "      <td>3.5</td>\n",
              "      <td>1.4</td>\n",
              "      <td>0.2</td>\n",
              "    </tr>\n",
              "    <tr>\n",
              "      <th>1</th>\n",
              "      <td>4.9</td>\n",
              "      <td>3.0</td>\n",
              "      <td>1.4</td>\n",
              "      <td>0.2</td>\n",
              "    </tr>\n",
              "    <tr>\n",
              "      <th>2</th>\n",
              "      <td>4.7</td>\n",
              "      <td>3.2</td>\n",
              "      <td>1.3</td>\n",
              "      <td>0.2</td>\n",
              "    </tr>\n",
              "    <tr>\n",
              "      <th>3</th>\n",
              "      <td>4.6</td>\n",
              "      <td>3.1</td>\n",
              "      <td>1.5</td>\n",
              "      <td>0.2</td>\n",
              "    </tr>\n",
              "    <tr>\n",
              "      <th>4</th>\n",
              "      <td>5.0</td>\n",
              "      <td>3.6</td>\n",
              "      <td>1.4</td>\n",
              "      <td>0.2</td>\n",
              "    </tr>\n",
              "  </tbody>\n",
              "</table>\n",
              "</div>"
            ],
            "text/plain": [
              "   sepal length (cm)  sepal width (cm)  petal length (cm)  petal width (cm)\n",
              "0                5.1               3.5                1.4               0.2\n",
              "1                4.9               3.0                1.4               0.2\n",
              "2                4.7               3.2                1.3               0.2\n",
              "3                4.6               3.1                1.5               0.2\n",
              "4                5.0               3.6                1.4               0.2"
            ]
          },
          "metadata": {
            "tags": []
          },
          "execution_count": 108
        }
      ]
    },
    {
      "cell_type": "code",
      "metadata": {
        "id": "BNymXDjwUFvq"
      },
      "source": [
        "iris[\"species\"]=df.target"
      ],
      "execution_count": null,
      "outputs": []
    },
    {
      "cell_type": "code",
      "metadata": {
        "id": "MLjqTpa2UFvt",
        "outputId": "187900f1-6094-424d-9133-055dd0c804a6"
      },
      "source": [
        "iris.species.unique()"
      ],
      "execution_count": null,
      "outputs": [
        {
          "output_type": "execute_result",
          "data": {
            "text/plain": [
              "array([0, 1, 2])"
            ]
          },
          "metadata": {
            "tags": []
          },
          "execution_count": 120
        }
      ]
    },
    {
      "cell_type": "code",
      "metadata": {
        "id": "dch7qaF9UFvw",
        "outputId": "09abef31-d6a0-43d4-abdc-183e375ca61f"
      },
      "source": [
        "iris.head()"
      ],
      "execution_count": null,
      "outputs": [
        {
          "output_type": "execute_result",
          "data": {
            "text/html": [
              "<div>\n",
              "<style scoped>\n",
              "    .dataframe tbody tr th:only-of-type {\n",
              "        vertical-align: middle;\n",
              "    }\n",
              "\n",
              "    .dataframe tbody tr th {\n",
              "        vertical-align: top;\n",
              "    }\n",
              "\n",
              "    .dataframe thead th {\n",
              "        text-align: right;\n",
              "    }\n",
              "</style>\n",
              "<table border=\"1\" class=\"dataframe\">\n",
              "  <thead>\n",
              "    <tr style=\"text-align: right;\">\n",
              "      <th></th>\n",
              "      <th>sepal length (cm)</th>\n",
              "      <th>sepal width (cm)</th>\n",
              "      <th>petal length (cm)</th>\n",
              "      <th>petal width (cm)</th>\n",
              "      <th>species</th>\n",
              "    </tr>\n",
              "  </thead>\n",
              "  <tbody>\n",
              "    <tr>\n",
              "      <th>0</th>\n",
              "      <td>5.1</td>\n",
              "      <td>3.5</td>\n",
              "      <td>1.4</td>\n",
              "      <td>0.2</td>\n",
              "      <td>0</td>\n",
              "    </tr>\n",
              "    <tr>\n",
              "      <th>1</th>\n",
              "      <td>4.9</td>\n",
              "      <td>3.0</td>\n",
              "      <td>1.4</td>\n",
              "      <td>0.2</td>\n",
              "      <td>0</td>\n",
              "    </tr>\n",
              "    <tr>\n",
              "      <th>2</th>\n",
              "      <td>4.7</td>\n",
              "      <td>3.2</td>\n",
              "      <td>1.3</td>\n",
              "      <td>0.2</td>\n",
              "      <td>0</td>\n",
              "    </tr>\n",
              "    <tr>\n",
              "      <th>3</th>\n",
              "      <td>4.6</td>\n",
              "      <td>3.1</td>\n",
              "      <td>1.5</td>\n",
              "      <td>0.2</td>\n",
              "      <td>0</td>\n",
              "    </tr>\n",
              "    <tr>\n",
              "      <th>4</th>\n",
              "      <td>5.0</td>\n",
              "      <td>3.6</td>\n",
              "      <td>1.4</td>\n",
              "      <td>0.2</td>\n",
              "      <td>0</td>\n",
              "    </tr>\n",
              "  </tbody>\n",
              "</table>\n",
              "</div>"
            ],
            "text/plain": [
              "   sepal length (cm)  sepal width (cm)  petal length (cm)  petal width (cm)  \\\n",
              "0                5.1               3.5                1.4               0.2   \n",
              "1                4.9               3.0                1.4               0.2   \n",
              "2                4.7               3.2                1.3               0.2   \n",
              "3                4.6               3.1                1.5               0.2   \n",
              "4                5.0               3.6                1.4               0.2   \n",
              "\n",
              "   species  \n",
              "0        0  \n",
              "1        0  \n",
              "2        0  \n",
              "3        0  \n",
              "4        0  "
            ]
          },
          "metadata": {
            "tags": []
          },
          "execution_count": 119
        }
      ]
    },
    {
      "cell_type": "code",
      "metadata": {
        "id": "zfb36v5BUFvy",
        "outputId": "d0eed853-1ebd-486e-8fac-28402b750852"
      },
      "source": [
        "df.target_names[0]"
      ],
      "execution_count": null,
      "outputs": [
        {
          "output_type": "execute_result",
          "data": {
            "text/plain": [
              "array(['setosa', 'versicolor', 'virginica'], dtype='<U10')"
            ]
          },
          "metadata": {
            "tags": []
          },
          "execution_count": 121
        }
      ]
    },
    {
      "cell_type": "code",
      "metadata": {
        "id": "lM6dld9yUFv1"
      },
      "source": [
        "iris[\"species\"]=iris[\"species\"].apply( lambda x: df.target_names[x])"
      ],
      "execution_count": null,
      "outputs": []
    },
    {
      "cell_type": "code",
      "metadata": {
        "id": "xcn6rTtPUFv3",
        "outputId": "32139b6a-bec9-49ed-9dbd-3fe514aa946a"
      },
      "source": [
        "iris.species.unique()"
      ],
      "execution_count": null,
      "outputs": [
        {
          "output_type": "execute_result",
          "data": {
            "text/plain": [
              "array(['setosa', 'versicolor', 'virginica'], dtype=object)"
            ]
          },
          "metadata": {
            "tags": []
          },
          "execution_count": 125
        }
      ]
    },
    {
      "cell_type": "code",
      "metadata": {
        "id": "Uwityjl9UFv5"
      },
      "source": [],
      "execution_count": null,
      "outputs": []
    },
    {
      "cell_type": "code",
      "metadata": {
        "id": "ATg6-5_zUFv8"
      },
      "source": [],
      "execution_count": null,
      "outputs": []
    },
    {
      "cell_type": "code",
      "metadata": {
        "id": "s_HSu1H8UFv-"
      },
      "source": [],
      "execution_count": null,
      "outputs": []
    },
    {
      "cell_type": "markdown",
      "metadata": {
        "id": "A18EuaGTUFwC"
      },
      "source": [
        "# Digitize"
      ]
    },
    {
      "cell_type": "code",
      "metadata": {
        "id": "voDSzLg9UFwC",
        "outputId": "a7993835-0ece-46fc-a383-afd055aae4f5"
      },
      "source": [
        "import pandas as pd\n",
        "import numpy as np\n",
        "x=np.array([\"A\", \"A\", \"B\", \"C\"])\n",
        "bins=np.array([0, 1, 2.5, 4, 10])\n",
        "inds=np.digitize(x)\n",
        "inds"
      ],
      "execution_count": null,
      "outputs": [
        {
          "output_type": "error",
          "ename": "TypeError",
          "evalue": "_digitize_dispatcher() missing 1 required positional argument: 'bins'",
          "traceback": [
            "\u001b[0;31m---------------------------------------------------------------------------\u001b[0m",
            "\u001b[0;31mTypeError\u001b[0m                                 Traceback (most recent call last)",
            "\u001b[0;32m<ipython-input-4-b4918d1489b3>\u001b[0m in \u001b[0;36m<module>\u001b[0;34m\u001b[0m\n\u001b[1;32m      3\u001b[0m \u001b[0mx\u001b[0m\u001b[0;34m=\u001b[0m\u001b[0mnp\u001b[0m\u001b[0;34m.\u001b[0m\u001b[0marray\u001b[0m\u001b[0;34m(\u001b[0m\u001b[0;34m[\u001b[0m\u001b[0;34m\"A\"\u001b[0m\u001b[0;34m,\u001b[0m \u001b[0;34m\"A\"\u001b[0m\u001b[0;34m,\u001b[0m \u001b[0;34m\"B\"\u001b[0m\u001b[0;34m,\u001b[0m \u001b[0;34m\"C\"\u001b[0m\u001b[0;34m]\u001b[0m\u001b[0;34m)\u001b[0m\u001b[0;34m\u001b[0m\u001b[0;34m\u001b[0m\u001b[0m\n\u001b[1;32m      4\u001b[0m \u001b[0mbins\u001b[0m\u001b[0;34m=\u001b[0m\u001b[0mnp\u001b[0m\u001b[0;34m.\u001b[0m\u001b[0marray\u001b[0m\u001b[0;34m(\u001b[0m\u001b[0;34m[\u001b[0m\u001b[0;36m0\u001b[0m\u001b[0;34m,\u001b[0m \u001b[0;36m1\u001b[0m\u001b[0;34m,\u001b[0m \u001b[0;36m2.5\u001b[0m\u001b[0;34m,\u001b[0m \u001b[0;36m4\u001b[0m\u001b[0;34m,\u001b[0m \u001b[0;36m10\u001b[0m\u001b[0;34m]\u001b[0m\u001b[0;34m)\u001b[0m\u001b[0;34m\u001b[0m\u001b[0;34m\u001b[0m\u001b[0m\n\u001b[0;32m----> 5\u001b[0;31m \u001b[0minds\u001b[0m\u001b[0;34m=\u001b[0m\u001b[0mnp\u001b[0m\u001b[0;34m.\u001b[0m\u001b[0mdigitize\u001b[0m\u001b[0;34m(\u001b[0m\u001b[0mx\u001b[0m\u001b[0;34m)\u001b[0m\u001b[0;34m\u001b[0m\u001b[0;34m\u001b[0m\u001b[0m\n\u001b[0m\u001b[1;32m      6\u001b[0m \u001b[0minds\u001b[0m\u001b[0;34m\u001b[0m\u001b[0;34m\u001b[0m\u001b[0m\n",
            "\u001b[0;32m<__array_function__ internals>\u001b[0m in \u001b[0;36mdigitize\u001b[0;34m(*args, **kwargs)\u001b[0m\n",
            "\u001b[0;31mTypeError\u001b[0m: _digitize_dispatcher() missing 1 required positional argument: 'bins'"
          ]
        }
      ]
    },
    {
      "cell_type": "code",
      "metadata": {
        "id": "DVTazGMVUFwI"
      },
      "source": [],
      "execution_count": null,
      "outputs": []
    },
    {
      "cell_type": "code",
      "metadata": {
        "id": "ozFnhBZuUFwM"
      },
      "source": [],
      "execution_count": null,
      "outputs": []
    },
    {
      "cell_type": "code",
      "metadata": {
        "id": "SF02zhiEUFwQ"
      },
      "source": [],
      "execution_count": null,
      "outputs": []
    },
    {
      "cell_type": "code",
      "metadata": {
        "id": "WODHrCcQUFwU"
      },
      "source": [],
      "execution_count": null,
      "outputs": []
    },
    {
      "cell_type": "markdown",
      "metadata": {
        "id": "Ozmu7jcbUFwX"
      },
      "source": [
        "# title. "
      ]
    },
    {
      "cell_type": "markdown",
      "metadata": {
        "id": "dkK7-v_VUFwX"
      },
      "source": [
        "- itroduction "
      ]
    },
    {
      "cell_type": "markdown",
      "metadata": {
        "id": "OJdOy0p4UFwY"
      },
      "source": [
        "$$\\large  f(x)= \\frac{e^x}{1+e^{-x}}$$"
      ]
    },
    {
      "cell_type": "code",
      "metadata": {
        "id": "QswXcUU-UFwY",
        "outputId": "2a5582ee-87d8-4433-9cc4-c34d2df1a01e"
      },
      "source": [
        "!ls\n"
      ],
      "execution_count": null,
      "outputs": [
        {
          "output_type": "stream",
          "text": [
            " Guide to Machine Learning in R for Beginners Logistic Regression.ipynb\r\n",
            "8-3-2020-student2017.ipynb\r\n",
            "Boston.ipynb\r\n",
            "DIR_info_2.ipynb\r\n",
            "Data science  Project.docx\r\n",
            "DataScience With Python .ipynb\r\n",
            "Develop a XGBoost model on SageMaker to Forecast Demand.ipynb\r\n",
            "DirInfo.FstProj.pptx\r\n",
            "DirInfo_1-Copy1.ipynb\r\n",
            "DirInfo_1-Copy2.ipynb\r\n",
            "DirInfo_1.ipynb\r\n",
            "DirInfo_A.ipynb\r\n",
            "DirInfo_Presentation.ipynb\r\n",
            "Education Data Mining.ipynb\r\n",
            "GD6_clean.csv\r\n",
            "GD_Part2_clean.csv\r\n",
            "Hello.gv\r\n",
            "Hello.gv.svg\r\n",
            "IRIS. XGBoost  Multiclass .ipynb\r\n",
            "Isamahan.ipynb\r\n",
            "\u001b[34mMLCourse\u001b[m\u001b[m\r\n",
            "MLCourseSlides.pdf\r\n",
            "MachineLearning_Eval_Project.ipynb\r\n",
            "Make_pipeline.ipynb\r\n",
            "Pivot_DF_in_R .ipynb\r\n",
            "Plotting Learning Curves.ipynb\r\n",
            "R_graph_1-Copy1.ipynb\r\n",
            "Random Forest.ipynb\r\n",
            "\u001b[34mRecursive-Feature-Elimination-RFE-by-Using-Tree-Based-and-Gradient-Boosting-Algorithm\u001b[m\u001b[m\r\n",
            "SAuvegarde.ipynb\r\n",
            "SKLEARN. & SCIPY.ipynb\r\n",
            "Seaborn.ipynb\r\n",
            "Sigma.png\r\n",
            "Untitled.ipynb\r\n",
            "Untitled1.ipynb\r\n",
            "Untitled2.ipynb\r\n",
            "Untitled3.ipynb\r\n",
            "Workshop Dir_info.pptx\r\n",
            "bst_model.pkl\r\n",
            "confusion.png\r\n",
            "confusion_matrix.png\r\n",
            "\u001b[34mdata\u001b[m\u001b[m\r\n",
            "dtest.svm\r\n",
            "dtrain.svm\r\n",
            "dump.raw.txt\r\n",
            "hyperparameters.ipynb\r\n",
            "image_processing.ipynb\r\n",
            "\u001b[34mimgs\u001b[m\u001b[m\r\n",
            "inferenceStudent.ipynb\r\n",
            "jointplot.png\r\n",
            "machine-learning-cheat-sheet:machine-learning-cheat-sheet.pdf at master · soulmachine:machine-learni.webarchive\r\n",
            "output.wav\r\n",
            "\u001b[34mresources\u001b[m\u001b[m\r\n",
            "test.ipynb\r\n",
            "test.png\r\n",
            "train.csv\r\n",
            "tree.dot\r\n",
            "validation.csv\r\n",
            "xgb-random-grid-search-results-01.csv\r\n"
          ],
          "name": "stdout"
        }
      ]
    },
    {
      "cell_type": "code",
      "metadata": {
        "id": "5sh1QFvTUFwe",
        "outputId": "986cc1c3-3744-4d13-dc0a-5e1030abb996"
      },
      "source": [
        "!pwd"
      ],
      "execution_count": null,
      "outputs": [
        {
          "output_type": "stream",
          "text": [
            "/Users/medamin/_Projets/_DataScience/DirectOfInformaiton_Project\r\n"
          ],
          "name": "stdout"
        }
      ]
    },
    {
      "cell_type": "code",
      "metadata": {
        "id": "eXZvsL6-UFwi",
        "outputId": "63877f84-f649-4c92-c909-6d5ee2681dc8"
      },
      "source": [
        "!aws "
      ],
      "execution_count": null,
      "outputs": [
        {
          "output_type": "stream",
          "text": [
            "usage: aws [options] <command> <subcommand> [<subcommand> ...] [parameters]\r\n",
            "To see help text, you can run:\r\n",
            "\r\n",
            "  aws help\r\n",
            "  aws <command> help\r\n",
            "  aws <command> <subcommand> help\r\n",
            "aws: error: the following arguments are required: command\r\n"
          ],
          "name": "stdout"
        }
      ]
    },
    {
      "cell_type": "code",
      "metadata": {
        "id": "tjP8qLHMUFwn"
      },
      "source": [],
      "execution_count": null,
      "outputs": []
    }
  ]
}